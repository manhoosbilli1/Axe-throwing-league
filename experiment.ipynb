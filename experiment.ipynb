{
 "metadata": {
  "language_info": {
   "codemirror_mode": {
    "name": "ipython",
    "version": 3
   },
   "file_extension": ".py",
   "mimetype": "text/x-python",
   "name": "python",
   "nbconvert_exporter": "python",
   "pygments_lexer": "ipython3",
   "version": "3.7.6-final"
  },
  "orig_nbformat": 2,
  "kernelspec": {
   "name": "python3",
   "display_name": "Python 3",
   "language": "python"
  }
 },
 "nbformat": 4,
 "nbformat_minor": 2,
 "cells": [
  {
   "cell_type": "code",
   "execution_count": 18,
   "metadata": {},
   "outputs": [],
   "source": [
    "#run all the experiments here when needed. is set up with vscode but can be opened with browser."
   ]
  },
  {
   "cell_type": "code",
   "execution_count": 19,
   "metadata": {},
   "outputs": [],
   "source": [
    "import matplotlib.pylab as plt\n",
    "import cv2 as cv \n",
    "import numpy as np "
   ]
  },
  {
   "cell_type": "code",
   "execution_count": 20,
   "metadata": {},
   "outputs": [],
   "source": [
    "circle_org = cv.imread('Photos/target2.jpg')\n",
    "circle = circle_org.copy()\n",
    "circle = cv.cvtColor(circle, cv.COLOR_BGR2GRAY)\n",
    "circle = cv.GaussianBlur(circle, (7, 7), 1)\n",
    "canny = cv.Canny(circle, 175, 250)\n",
    "contours, hieracrhy = cv.findContours(canny, cv.RETR_LIST, cv.CHAIN_APPROX_SIMPLE)\n",
    "\n",
    "#Detecting the position of board and drawing a box around the circle  to get our ROI\n",
    "max_cont = -1\n",
    "max_idx = 0\n",
    "for i in range(len(contours)):\n",
    "    length = cv.arcLength(contours[i], True)\n",
    "    if(length > max_cont):\n",
    "        max_idx = i\n",
    "        max_cont = length\n",
    "x, y, w, h = cv.boundingRect(contours[max_idx])\n",
    "img = cv.rectangle(canny, (x, y), (x+w, y+h), (255, 255, 255), 1)\n",
    "#Get region of interest \n",
    "if(img.ndim == 2):\n",
    "    IM_ROI = img[y:y+h,x:x+w]\n",
    "else:\n",
    "    IM_ROI = img[y:y+h,x:x+w,:]\n",
    "#houghcircle \n",
    "circles = cv.HoughCircles(IM_ROI, cv.HOUGH_GRADIENT, 1.2,100)\n",
    "\n",
    "bg = np.zeros((1000,1000,3), dtype=np.uint8)\n",
    "if circles is not None:\n",
    "    circles = np.round(circles[0, :]).astype(\"int\")\n",
    "\n",
    "    for (x,y,r) in circles:\n",
    "        cv.circle(bg, (x,y), r, (0,255,0), 4)\n",
    "        cv.rectangle(bg, (x - 5, y - 5), (x + 5, y + 5), (0, 128, 255), -1)\n",
    "\n"
   ]
  },
  {
   "cell_type": "code",
   "execution_count": 21,
   "metadata": {},
   "outputs": [],
   "source": [
    "plt.imshow(bg)\n",
    "plt.show()"
   ]
  },
  {
   "cell_type": "code",
   "execution_count": null,
   "metadata": {},
   "outputs": [],
   "source": []
  }
 ]
}